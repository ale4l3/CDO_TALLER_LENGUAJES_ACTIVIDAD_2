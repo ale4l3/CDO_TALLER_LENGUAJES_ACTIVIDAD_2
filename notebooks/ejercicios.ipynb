{
 "cells": [
  {
   "cell_type": "markdown",
   "metadata": {},
   "source": [
    "# Lenguaje Python\n",
    "## Cursada 2025\n",
    "### ACTIVIDAD 2"
   ]
  },
  {
   "cell_type": "markdown",
   "metadata": {},
   "source": []
  }
 ],
 "metadata": {
  "language_info": {
   "name": "python"
  }
 },
 "nbformat": 4,
 "nbformat_minor": 2
}
