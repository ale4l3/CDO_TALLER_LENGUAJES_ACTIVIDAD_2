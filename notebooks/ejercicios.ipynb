{
 "cells": [
  {
   "cell_type": "markdown",
   "metadata": {},
   "source": [
    "# Lenguaje Python - Cursada 2025 - ACTIVIDAD 2"
   ]
  },
  {
   "cell_type": "markdown",
   "metadata": {},
   "source": [
    "### Configuración de los imports y la ruta absoluta del directorio raíz del proyecto"
   ]
  },
  {
   "cell_type": "code",
   "execution_count": 33,
   "metadata": {},
   "outputs": [
    {
     "name": "stdout",
     "output_type": "stream",
     "text": [
      "Ruta configurada: c:\\CDO_Seminario_Python\\ACTIVIDAD 2\\src\n",
      "Archivos en ejercicio_10: ['functions_10.py', 'game_logic_10.py', '__init__.py', '__pycache__']\n",
      "['c:\\\\CDO_Seminario_Python\\\\ACTIVIDAD 2\\\\src', 'c:\\\\CDO_Seminario_Python\\\\ACTIVIDAD 2\\\\src', 'C:\\\\Users\\\\aleja\\\\AppData\\\\Local\\\\Programs\\\\Python\\\\Python312\\\\python312.zip', 'C:\\\\Users\\\\aleja\\\\AppData\\\\Local\\\\Programs\\\\Python\\\\Python312\\\\DLLs', 'C:\\\\Users\\\\aleja\\\\AppData\\\\Local\\\\Programs\\\\Python\\\\Python312\\\\Lib', 'C:\\\\Users\\\\aleja\\\\AppData\\\\Local\\\\Programs\\\\Python\\\\Python312', 'c:\\\\CDO_Seminario_Python\\\\ACTIVIDAD 2\\\\.venv', '', 'c:\\\\CDO_Seminario_Python\\\\ACTIVIDAD 2\\\\.venv\\\\Lib\\\\site-packages', 'c:\\\\CDO_Seminario_Python\\\\ACTIVIDAD 2\\\\.venv\\\\Lib\\\\site-packages\\\\win32', 'c:\\\\CDO_Seminario_Python\\\\ACTIVIDAD 2\\\\.venv\\\\Lib\\\\site-packages\\\\win32\\\\lib', 'c:\\\\CDO_Seminario_Python\\\\ACTIVIDAD 2\\\\.venv\\\\Lib\\\\site-packages\\\\Pythonwin']\n"
     ]
    }
   ],
   "source": [
    "import os\n",
    "import sys\n",
    "\n",
    "# Configuración INFALIBLE\n",
    "project_root = os.path.abspath(os.path.join('..', '..'))  # A CDO_Seminario_Python\n",
    "src_dir = os.path.join(project_root, 'ACTIVIDAD 2', 'src')\n",
    "sys.path.insert(0, src_dir)\n",
    "\n",
    "# Verificación EXTRA\n",
    "print(f\"Ruta configurada: {src_dir}\")\n",
    "print(f\"Archivos en ejercicio_10: {os.listdir(os.path.join(src_dir, 'ejercicio_10'))}\")\n",
    "print(sys.path) "
   ]
  },
  {
   "cell_type": "markdown",
   "metadata": {},
   "source": [
    "# Ejercicios"
   ]
  },
  {
   "cell_type": "markdown",
   "metadata": {},
   "source": [
    "# 1. Análisis del Zen de Python\n",
    "Copie el texto del Zen de Python en una variable e imprima todas las líneas cuya segunda\n",
    "palabra comience con una vocal (A, E, I, O, U, a, e, i, o, u).\n",
    "\n",
    "El Zen de Python es una colección de principios que guían la filosofía de diseño de Python,\n",
    "escrita en forma de aforismos. Resalta la simplicidad, legibilidad y claridad en el código.\n",
    "\n",
    "Para verlo en Python, ejecute en la consola import this\n",
    "Para este punto debe colocar el contenido del Zen de python en una variable string:"
   ]
  },
  {
   "cell_type": "code",
   "execution_count": 34,
   "metadata": {},
   "outputs": [
    {
     "name": "stdout",
     "output_type": "stream",
     "text": [
      "\n",
      "Beautiful is better than ugly\n",
      "\n",
      "Explicit is better than implicit\n",
      "\n",
      "Simple is better than complex\n",
      "\n",
      "Complex is better than complicated\n",
      "\n",
      "Flat is better than nested\n",
      "\n",
      "Sparse is better than dense\n",
      "\n",
      "Unless explicitly silenced\n",
      "\n",
      "Now is better than never\n",
      "\n",
      "Namespaces are one honking great idea -- let's do more of those!\n",
      "\n",
      "['Beautiful is better than ugly', 'Explicit is better than implicit', 'Simple is better than complex', 'Complex is better than complicated', 'Flat is better than nested', 'Sparse is better than dense', 'Unless explicitly silenced', 'Now is better than never', \"Namespaces are one honking great idea -- let's do more of those!\"]\n",
      "Beautiful is better than ugly\n",
      "Explicit is better than implicit\n",
      "Simple is better than complex\n",
      "Complex is better than complicated\n",
      "Flat is better than nested\n",
      "Sparse is better than dense\n",
      "Unless explicitly silenced\n",
      "Now is better than never\n",
      "Namespaces are one honking great idea -- let's do more of those!\n"
     ]
    }
   ],
   "source": [
    "import this\n",
    "zen_text =\"\"\"\n",
    "Beautiful is better than ugly.\n",
    "Explicit is better than implicit.\n",
    "Simple is better than complex.\n",
    "Complex is better than complicated.\n",
    "Flat is better than nested.\n",
    "Sparse is better than dense.\n",
    "Readability counts.\n",
    "Special cases aren't special enough to break the rules.\n",
    "Although practicality beats purity.\n",
    "Errors should never pass silently.\n",
    "Unless explicitly silenced.\n",
    "In the face of ambiguity, refuse the temptation to guess.\n",
    "There should be one-- and preferably only one --obvious way to do it.\n",
    "Although that way may not be obvious at first unless you're Dutch.\n",
    "Now is better than never.\n",
    "Although never is often better than *right* now.\n",
    "If the implementation is hard to explain, it's a bad idea.\n",
    "If the implementation is easy to explain, it may be a good idea.\n",
    "Namespaces are one honking great idea -- let's do more of those!\n",
    "\"\"\"\n",
    "# 3 Formas\n",
    "# 1 if elem es porque se necesita chequear que no este vacio, los /n por ejemplo son considerados vacios\n",
    "for elem in zen_text.split(\".\"):\n",
    "  if elem:\n",
    "        words = elem.split()\n",
    "  if words and words[1].startswith(('A', 'E', 'I', 'O', 'U', 'a', 'e', 'i', 'o', 'u')):\n",
    "       print(elem) \n",
    "#2 opcion 2 - Operar dentro de la construccion de listas y luego imprimir la lista final con la solución\n",
    "vowels = {'a', 'e', 'i', 'o', 'u'}\n",
    "# Se esta creando una lista de cada oración en el condicional se verifica que esa oración no este vacía\n",
    "sentences = [sentence.strip() for sentence in zen_text.split(\".\") if sentence.strip()]\n",
    "# se crea una lista con las oraciones que en su segunda palabra contengan una vocal\n",
    "sentences_starting_with_vowels = [sentence for sentence in sentences if sentence and sentence.split()[1][0].lower() in vowels]\n",
    "print(sentences_starting_with_vowels)\n",
    "#3 Opcion 3 - Lo mismo que la anterior pero utilizando la funcion filter y map, la primera filtra los saltos de linea en la lista retornada por map que borra espaciospor fuera del string de vuelto por split\n",
    "sentences = filter(None, map(str.strip, zen_text.split(\".\")))\n",
    "sentences_starting_with_vowel = [sentence for sentence in sentences if sentence and sentence.split()[1][0].lower() in vowels]\n",
    "print(\"\\n\".join(sentences_starting_with_vowel))"
   ]
  },
  {
   "cell_type": "markdown",
   "metadata": {},
   "source": [
    "# Sobre la función filter y diferencias con lista\n",
    "\n",
    "filter(None, ...) devuelve un objeto filter, que es un iterador.\n",
    "\n",
    "No es una lista, pero es iterable, lo que significa que puedes recorrerlo con for, convertirlo a lista o usarlo en comprensiones de listas.\n",
    "\n",
    "Los iteradores implementan el protocolo de iteración (método __iter__).\n",
    "\n",
    "Python automáticamente \"consume\" el iterador cuando lo recorres.\n",
    "\n",
    "### COMPARACIÓN: Lista vs Iterador filter\n",
    "\n",
    "| Característica       | Lista (`list`)                     | Iterador (`filter`)               |\n",
    "|----------------------|------------------------------------|-----------------------------------|\n",
    "| **Almacenamiento**   | Guarda TODOS en memoria            | Genera elementos ON-DEMAND        |\n",
    "| **Reutilización**    | ✅ Múltiples usos                  | ❌ Se agota después de 1 uso      |\n",
    "| **Indexación**       | `lista[0]` (sí funciona)           | `filter_obj[0]` (❌ Error)        |\n",
    "| **Conversión**       | Ya es lista                        | Necesita `list(filter_obj)`       |\n",
    "| **Memoria**          | Alto uso                           | Bajo uso  \n",
    "|\n",
    "\n",
    "\n",
    "**¿Por qué usar filter en lugar de lista directamente?**\n",
    "\n",
    "- Eficiencia en memoria: El iterador no carga todos los datos a la vez.\n",
    "\n",
    "- Pipelining: Puedes encadenar operaciones (map → filter) sin crear listas intermedias.\n",
    "\n",
    "**¿Cuándo convertirlo a lista?**\n",
    "\n",
    "- Acceder por índices (rules_list[0]).\n",
    "\n",
    "- Reutilizar los datos múltiples veces.\n",
    "\n",
    "- Usar métodos de lista (append, extend, etc.)."
   ]
  },
  {
   "cell_type": "markdown",
   "metadata": {},
   "source": [
    "# 2. Título más largo\n",
    "Dado un listado de títulos de streams en Twitch:"
   ]
  },
  {
   "cell_type": "code",
   "execution_count": 35,
   "metadata": {},
   "outputs": [],
   "source": [
    "titles = [\n",
    "\"Speedrun de Super Mario en tiempo récord\",\n",
    "\"Charla sobre desarrollo de videojuegos\",\n",
    "\"Jugando al nuevo FPS del momento con amigos\",\n",
    "\"Música en vivo: improvisaciones al piano\"\n",
    "]"
   ]
  },
  {
   "cell_type": "markdown",
   "metadata": {},
   "source": [
    "Encuentre el título con más palabras y muéstrelo en pantalla.\n",
    "\n",
    "**Salida esperada:**\n",
    "\n",
    "    El título más largo es: \"Jugando al nuevo FPS del momento con amigos\""
   ]
  },
  {
   "cell_type": "code",
   "execution_count": 36,
   "metadata": {},
   "outputs": [
    {
     "name": "stdout",
     "output_type": "stream",
     "text": [
      "Help on built-in function max in module builtins:\n",
      "\n",
      "max(...)\n",
      "    max(iterable, *[, default=obj, key=func]) -> value\n",
      "    max(arg1, arg2, *args, *[, key=func]) -> value\n",
      "\n",
      "    With a single iterable argument, return its biggest item. The\n",
      "    default keyword-only argument specifies an object to return if\n",
      "    the provided iterable is empty.\n",
      "    With two or more arguments, return the largest argument.\n",
      "\n",
      "Help on class zip in module builtins:\n",
      "\n",
      "class zip(object)\n",
      " |  zip(*iterables, strict=False) --> Yield tuples until an input is exhausted.\n",
      " |\n",
      " |     >>> list(zip('abcdefg', range(3), range(4)))\n",
      " |     [('a', 0, 0), ('b', 1, 1), ('c', 2, 2)]\n",
      " |\n",
      " |  The zip object yields n-length tuples, where n is the number of iterables\n",
      " |  passed as positional arguments to zip().  The i-th element in every tuple\n",
      " |  comes from the i-th iterable argument to zip().  This continues until the\n",
      " |  shortest argument is exhausted.\n",
      " |\n",
      " |  If strict is true and one of the arguments is exhausted before the others,\n",
      " |  raise a ValueError.\n",
      " |\n",
      " |  Methods defined here:\n",
      " |\n",
      " |  __getattribute__(self, name, /)\n",
      " |      Return getattr(self, name).\n",
      " |\n",
      " |  __iter__(self, /)\n",
      " |      Implement iter(self).\n",
      " |\n",
      " |  __next__(self, /)\n",
      " |      Implement next(self).\n",
      " |\n",
      " |  __reduce__(...)\n",
      " |      Return state information for pickling.\n",
      " |\n",
      " |  __setstate__(...)\n",
      " |      Set state information for unpickling.\n",
      " |\n",
      " |  ----------------------------------------------------------------------\n",
      " |  Static methods defined here:\n",
      " |\n",
      " |  __new__(*args, **kwargs)\n",
      " |      Create and return a new object.  See help(type) for accurate signature.\n",
      "\n"
     ]
    }
   ],
   "source": [
    "# Voy a utilizar las siguientes funciones para resolver el ejercicio\n",
    "help(max)\n",
    "help(zip)"
   ]
  },
  {
   "cell_type": "code",
   "execution_count": 37,
   "metadata": {},
   "outputs": [
    {
     "name": "stdout",
     "output_type": "stream",
     "text": [
      "El título más largo es: \"Jugando al nuevo FPS del momento con amigos\"\n",
      "El título más largo es: \"Jugando al nuevo FPS del momento con amigos\"\n"
     ]
    }
   ],
   "source": [
    "# Primera forma\n",
    "titles_len = [len(title) for title in titles]\n",
    "titles_dic = {k: v for k, v in zip(titles_len, titles)}\n",
    "title_max_len = max(titles_len)\n",
    "print(f'El título más largo es: \"{titles_dic[title_max_len]}\"')\n",
    "\n",
    "# Otra forma de encontrar el título con más palabras. \n",
    "# En la key se manda: una función para determinar el criterio de comparación. Va utilizar esa funcion a medida que itera sobre titles\n",
    "title_max2_len = max(titles, key=lambda title: len(title.split()))\n",
    "\n",
    "print(f'El título más largo es: \"{title_max2_len}\"')"
   ]
  },
  {
   "cell_type": "markdown",
   "metadata": {},
   "source": [
    "# 3. Código de conducta\n",
    "Dado un código de conducta para un servidor de Discord:"
   ]
  },
  {
   "cell_type": "code",
   "execution_count": 38,
   "metadata": {},
   "outputs": [],
   "source": [
    "rules = \"\"\"Respeta a los demás. No se permiten insultos ni lenguaje ofensivo.\n",
    "Evita el spam. No publiques enlaces sospechosos o repetitivos.\n",
    "No compartas información personal.\n",
    "Usa los canales adecuados para cada tema.\n",
    "Sigue las instrucciones de los moderadores.\"\"\""
   ]
  },
  {
   "cell_type": "markdown",
   "metadata": {},
   "source": [
    "Solicite una palabra clave al usuario e imprima todas las reglas que la contengan.\n",
    "\n",
    "**Salida esperada:**\n",
    "\n",
    "    Ingrese una palabra clave: moderadores\n",
    "\n",
    "    Sigue las instrucciones de los moderadores.\n"
   ]
  },
  {
   "cell_type": "code",
   "execution_count": 39,
   "metadata": {},
   "outputs": [
    {
     "name": "stdout",
     "output_type": "stream",
     "text": [
      "Sigue las instrucciones de los moderadores\n"
     ]
    }
   ],
   "source": [
    "key_word = input(\"Ingrese una palabra clave: \").strip().lower()\n",
    "rules_list = list(filter(None, map(lambda x: str.strip(x).lower(), rules.split('.'))))\n",
    "for sentence in rules_list:\n",
    "    if sentence.count(key_word) > 0:\n",
    "        print(sentence.capitalize())"
   ]
  },
  {
   "cell_type": "markdown",
   "metadata": {},
   "source": [
    "# 4. Validación de nombre de usuario\n",
    "Valide un nombre de usuario con los siguientes criterios:\n",
    "\n",
    "- Al menos 5 caracteres.\n",
    "\n",
    "- Contiene al menos un número.\n",
    "\n",
    "- Contiene al menos una letra mayúscula.\n",
    "\n",
    "- Solo puede contener letras y números.\n",
    "\n",
    "**Ejemplo de entrada y salida esperada:**\n",
    "\n",
    "    Ingrese un nombre de usuario: Gamer123\n",
    "\n",
    "    El nombre de usuario es válido.\n",
    "\n",
    "    Ingrese un nombre de usuario: gamer\n",
    "\n",
    "    El nombre de usuario no cumple con los requisitos.\n",
    "\n"
   ]
  },
  {
   "cell_type": "code",
   "execution_count": 40,
   "metadata": {},
   "outputs": [
    {
     "name": "stdout",
     "output_type": "stream",
     "text": [
      "Help on built-in function any in module builtins:\n",
      "\n",
      "any(iterable, /)\n",
      "    Return True if bool(x) is True for any x in the iterable.\n",
      "\n",
      "    If the iterable is empty, return False.\n",
      "\n"
     ]
    }
   ],
   "source": [
    "help(any)"
   ]
  },
  {
   "cell_type": "code",
   "execution_count": 41,
   "metadata": {},
   "outputs": [
    {
     "name": "stdout",
     "output_type": "stream",
     "text": [
      "El nombre de usuario no cumple los requisitos\n"
     ]
    }
   ],
   "source": [
    "import user_validation as user\n",
    "\n",
    "user_name = input(\"Ingrese un numbre de usuario: \")\n",
    "if user.user_validation(user_name):\n",
    "    print(\"El nombre de usuario cumple los requisitos\")\n",
    "else:\n",
    "    print(\"El nombre de usuario no cumple los requisitos\")"
   ]
  },
  {
   "cell_type": "markdown",
   "metadata": {},
   "source": [
    "# 5. Clasificación de velocidad de reacción en un juego\n",
    "Dado el tiempo de reacción de un jugador en milisegundos, clasifíquelo en las siguientes categorías:\n",
    "\n",
    "- Menos de 200 ms: Rápido\n",
    "\n",
    "- Entre 200 y 500 ms: Normal\n",
    "\n",
    "- Más de 500 ms: Lento\n",
    "\n",
    "**Ejemplo de salida esperada:**\n",
    "\n",
    "    Ingrese su tiempo de reacción en ms: 320\n",
    "    Categoría: Normal\n"
   ]
  },
  {
   "cell_type": "code",
   "execution_count": 42,
   "metadata": {},
   "outputs": [
    {
     "name": "stdout",
     "output_type": "stream",
     "text": [
      "Categoria: Normal\n",
      "Categoria: Normal\n"
     ]
    }
   ],
   "source": [
    "# 2 Formas con una funcion condicional que retorna la categoria\n",
    "import classify_category_reaction as reactTime\n",
    "\n",
    "time_reaction_dic = {lambda x : x < 200: 'Rapido', lambda x: 500 >= x >= 200: 'Normal', lambda x: x > 500: 'Lento'}\n",
    "time_reaction_input = input('Ingrese su tiempo de reacción en ms: ')\n",
    "if time_reaction_input.isdigit():\n",
    "    time_reaction_input = int(time_reaction_input)\n",
    "    # Forma 1 con diccionario\n",
    "    for condition, category in time_reaction_dic.items():\n",
    "        if condition(time_reaction_input):\n",
    "            print(f'Categoria: {category}')\n",
    "    str_reaction = reactTime.classify_category(time_reaction_input)\n",
    "    # Forma 2 con una funcion \n",
    "    print(f'Categoria: {str_reaction}')\n",
    "else:\n",
    "    print(\"La entrada ingresada no es numerica\")"
   ]
  },
  {
   "cell_type": "markdown",
   "metadata": {},
   "source": [
    "# 6. Análisis de descripciones de una plataforma de stream\n",
    "Dadas varias descripciones de streams en Twitch, cuente cuántas menciones hay de \"entretenimiento\", \"música\" y \"charla\"."
   ]
  },
  {
   "cell_type": "code",
   "execution_count": 43,
   "metadata": {},
   "outputs": [],
   "source": [
    "descriptions = [\n",
    "\"Streaming de música en vivo con covers y composiciones\",\n",
    "\"Charla interactiva con la audiencia sobre series y películas\",\n",
    "\"Jugamos a juegos retro y charlamos sobre su historia\",\n",
    "\"Exploramos la mejor música de los 80s y 90s\",\n",
    "\"Programa de entretenimiento con noticias y curiosidades del mundo gamer\",\n",
    "\"Sesión de charla con invitados especiales del mundo del streaming\",\n",
    "\"Música en directo con improvisaciones y peticiones del chat\",\n",
    "\"Un espacio para charlar relajada sobre tecnología y cultura digital\",\n",
    "\"Exploramos el impacto de la música en los videojuegos clásicos\"\n",
    "]"
   ]
  },
  {
   "cell_type": "markdown",
   "metadata": {},
   "source": [
    "**Salida esperada:**\n",
    "\n",
    "    Menciones de 'música': 4\n",
    "    Menciones de 'charla': 2\n",
    "    Menciones de 'entretenimiento': 1"
   ]
  },
  {
   "cell_type": "code",
   "execution_count": 44,
   "metadata": {},
   "outputs": [
    {
     "name": "stdout",
     "output_type": "stream",
     "text": [
      "Help on built-in function sum in module builtins:\n",
      "\n",
      "sum(iterable, /, start=0)\n",
      "    Return the sum of a 'start' value (default: 0) plus an iterable of numbers\n",
      "\n",
      "    When the iterable is empty, return the start value.\n",
      "    This function is intended specifically for use with numeric values and may\n",
      "    reject non-numeric types.\n",
      "\n",
      "Help on method_descriptor:\n",
      "\n",
      "count(...) unbound builtins.str method\n",
      "    S.count(sub[, start[, end]]) -> int\n",
      "\n",
      "    Return the number of non-overlapping occurrences of substring sub in\n",
      "    string S[start:end].  Optional arguments start and end are\n",
      "    interpreted as in slice notation.\n",
      "\n"
     ]
    }
   ],
   "source": [
    "help(sum)\n",
    "help(str.count)"
   ]
  },
  {
   "cell_type": "code",
   "execution_count": 45,
   "metadata": {},
   "outputs": [
    {
     "name": "stdout",
     "output_type": "stream",
     "text": [
      " Menciones de música: 3\n",
      " Menciones de charla: 3\n",
      " Menciones de entretenimiento: 1\n"
     ]
    }
   ],
   "source": [
    "def count_ocurrences(text,word):\n",
    "    dict_ocurrences = {}\n",
    "\n",
    "    if isinstance(word, list):\n",
    "        for w in word:\n",
    "            ocurrences = 0\n",
    "            for s in text:\n",
    "                ocurrences = ocurrences + s.count(w)\n",
    "            dict_ocurrences[w] = ocurrences\n",
    "        \n",
    "    elif isinstance(word, str):\n",
    "        ocurrences = 0\n",
    "        for s in text:\n",
    "            ocurrences = ocurrences + s.count(word)\n",
    "        dict_ocurrences[word] = ocurrences\n",
    "\n",
    "    return dict_ocurrences\n",
    "\n",
    "music_ocurrences = count_ocurrences(descriptions, 'música')\n",
    "two_words_list = ['charla', 'entretenimiento']\n",
    "two_words_ocurrences = count_ocurrences(descriptions, two_words_list)\n",
    "\n",
    "print(f' Menciones de música: {music_ocurrences['música']}')\n",
    "for key, value in two_words_ocurrences.items():\n",
    "    print(f' Menciones de {key}: {value}')\n"
   ]
  },
  {
   "cell_type": "markdown",
   "metadata": {},
   "source": [
    "# 7. Generador de códigos de descuento\n",
    "Genere un código de descuento aleatorio para un usuario en base a su nombre, la fecha actual y el resto deben ser números o letras aleatorias. \n",
    "El código debe tener una longitud de 30 caracteres, todas las letras deben ser mayúsculas.\n",
    "El usuario debe ingresarse por teclado y debe validar que no exeda los 15 caracteres.\n",
    "\n",
    "**Entrada:**\n",
    "\n",
    "    Usuario: StreamerPro\n",
    "    Fecha: 2025-04-10\n",
    "\n",
    "**Salida esperada:**\n",
    "\n",
    "    Código de descuento: STREAMERPRO-20250410-AB12CDECA\n",
    "\n"
   ]
  },
  {
   "cell_type": "code",
   "execution_count": 46,
   "metadata": {},
   "outputs": [
    {
     "name": "stdout",
     "output_type": "stream",
     "text": [
      "ALE_4L3-20250416-GE60FI737MSVARY44\n"
     ]
    }
   ],
   "source": [
    "from create_discount_code import *\n",
    "user = input(\"Ingrese nombre de usuario (máx 15 caracteres): \")\n",
    "print(generate_discount_code(user))"
   ]
  },
  {
   "cell_type": "markdown",
   "metadata": {},
   "source": [
    "# 8. Identificación de anagramas\n",
    "Determine si dos palabras ingresadas son anagramas (contienen las mismas letras en diferente orden).\n",
    "\n",
    "**Ejemplo de entrada y salida esperada:**\n",
    "\n",
    "    Ingrese la primera palabra: amor\n",
    "    Ingrese la segunda palabra: roma\n",
    "    Son anagramas.\n",
    "    \n",
    "    Ingrese la primera palabra: python\n",
    "    Ingrese la segunda palabra: java\n",
    "    No son anagramas.\n"
   ]
  },
  {
   "cell_type": "code",
   "execution_count": 47,
   "metadata": {},
   "outputs": [
    {
     "name": "stdout",
     "output_type": "stream",
     "text": [
      "Son anagramas\n"
     ]
    }
   ],
   "source": [
    "# Guardar el len de las palabras juntar ambas lista con un zip y luego un set. Si el set tiene el mismo len que la palabra \n",
    "from is_anagram import *\n",
    "\n",
    "word_1 = input(\"Ingrese la primera palabra: \")\n",
    "word_2 = input(\"Ingrese la segunda palabra: \")\n",
    "\n",
    "\n",
    "if is_word(word_1) and is_word(word_2):\n",
    "    is_anagram(word_1, word_2)"
   ]
  },
  {
   "cell_type": "markdown",
   "metadata": {},
   "source": [
    "# 9. Limpieza de Datos para un Sistema de Clientes\n",
    "Eres un analista de datos en una empresa que ha recibido una lista de nombres de clientes de distintas fuentes.\n",
    "Sin embargo, estos datos contienen errores, espacios en blanco, nombres repetidos y valores nulos.\n",
    "Tu tarea es desarrollar un sistema que limpie y estandarice estos datos para poder usarlos en el sistema de facturación.\n",
    "\n",
    "**Datos de entrada**\n",
    "\n",
    "La empresa ha recopilado nombres de clientes desde diferentes formularios, bases de datos y registros manuales.\n",
    "\n",
    "La lista de datos inicial es la siguiente:"
   ]
  },
  {
   "cell_type": "code",
   "execution_count": 48,
   "metadata": {},
   "outputs": [],
   "source": [
    "clients = [\n",
    "\" Ana López \", \"Pedro Gómez\", \"maria martínez\", \"Pedro Gómez \", \"\",\n",
    "\" Luis Rodríguez \", None, \"ana lópez\", \"JUAN PÉREZ\", \"MARTA SUÁREZ\",\n",
    "\"luis rodríguez\", \"maría martínez \", \" claudia torres\", \"CLAUDIA TORRES\",\n",
    "\" \", \"pedro gómez\", \"Juan Pérez\", None, \"Ricardo Fernández\", \"LAURA RAMOS\",\n",
    "\"carlos mendes\", \"RICARDO FERNÁNDEZ \", \" Laura ramos\", \"CARLOS MENDES\",\n",
    "\"alejandro gonzález\", \" ALEJANDRO GONZÁLEZ \", \"Patricia Vega\",\n",
    "\"patricia VEGA\", \"Andrés Ocampo\", \" andrés ocampo\", \"Monica Herrera\",\n",
    "\"MONICA HERRERA \", \"gabriela ruíz\", \"Gabriela Ruíz\", \"sandra morales\",\n",
    "\"SANDRA MORALES\", \"miguel ángel\", \"Miguel Ángel \", \" Damián Castillo\",\n",
    "\"Damián Castillo \", None, \"\", \" \"\n",
    "]"
   ]
  },
  {
   "cell_type": "markdown",
   "metadata": {},
   "source": [
    "Desarrollar un sistema que permita realizar las siguientes operaciones en los datos:\n",
    "\n",
    "- Eliminar espacios extra en los nombres.\n",
    "- Convertir todos los nombres a formato de título (primera letra en mayúscula y el\n",
    "- resto en minúscula).\n",
    "- Eliminar registros duplicados para evitar clientes repetidos.\n",
    "- Eliminar valores vacíos o nulos, ya que no aportan información válida.\n",
    "- Mostrar la lista limpia de clientes listos para usar en el sistema de facturación.\n",
    "\n",
    "**Salida esperada**\n",
    "\n",
    "Después de ejecutar las funciones de limpieza, la lista de clientes debería verse así:\n",
    "\n",
    "    Lista limpia de clientes al realizar todas las operaciones:\n",
    "    ['Alejandro González', 'Ana López', 'Andrés Ocampo', 'Carlos Mendes',\n",
    "    'Claudia Torres', 'Damián Castillo', 'Gabriela Ruíz', 'Juan Pérez',\n",
    "    'Laura Ramos', 'Luis Rodríguez', 'Maria Martínez', 'Miguel Ángel',\n",
    "    'Monica Herrera', 'Patricia Vega', 'Pedro Gómez', 'Ricardo Fernández',\n",
    "    'Sandra Morales']"
   ]
  },
  {
   "cell_type": "code",
   "execution_count": 49,
   "metadata": {},
   "outputs": [
    {
     "name": "stdout",
     "output_type": "stream",
     "text": [
      "['Alejandro González', 'Ana López', 'Andrés Ocampo', 'Carlos Mendes', 'Claudia Torres', 'Damián Castillo', 'Gabriela Ruíz', 'Juan Pérez', 'Laura Ramos', 'Luis Rodríguez', 'Maria Martínez', 'Marta Suárez', 'María Martínez', 'Miguel Ángel', 'Monica Herrera', 'Patricia Vega', 'Pedro Gómez', 'Ricardo Fernández', 'Sandra Morales']\n"
     ]
    }
   ],
   "source": [
    "#  Eliminar espacios extra en los nombres. --> Con un strip\n",
    "#  Convertir todos los nombres a formato de título (primera letra en mayúscula y el resto en minúscula). --> con capitalize\n",
    "#  Eliminar registros duplicados para evitar clientes repetidos. --> con un set?\n",
    "#  Eliminar valores vacíos o nulos, ya que no aportan información válida. --> Con la funcion filter?\n",
    "#  Mostrar la lista limpia de clientes listos para usar en el sistema de facturación.\n",
    "\n",
    "from ejercicio_9.clean_data import *\n",
    "clean_clients = clean_data_list_str(clients)\n",
    "print(clean_clients)"
   ]
  },
  {
   "cell_type": "markdown",
   "metadata": {},
   "source": [
    "# 10. Simulación de partidas y ranking en shooter online\n",
    "Simule varias partidas de un juego de disparos y genere un ranking basado en el puntaje\n",
    "total de cada jugador. Se utilizará el siguiente sistema de puntuación:\n",
    "| Acción     | points |\n",
    "|------------|--------|\n",
    "| Kill       | 3      |\n",
    "| Asistencia | 1      |\n",
    "| Muerte     | -1     |\n",
    "\n",
    "A partir de un conjunto de rondas dado:"
   ]
  },
  {
   "cell_type": "code",
   "execution_count": 50,
   "metadata": {},
   "outputs": [],
   "source": [
    "rounds = [\n",
    "{\n",
    "'Shadow': {'kills': 2, 'assists': 1, 'deaths': True},\n",
    "'Blaze': {'kills': 1, 'assists': 0, 'deaths': False},\n",
    "'Viper': {'kills': 1, 'assists': 2, 'deaths': True},\n",
    "'Frost': {'kills': 0, 'assists': 1, 'deaths': False},\n",
    "'Reaper': {'kills': 1, 'assists': 1, 'deaths': False}\n",
    "},\n",
    "{\n",
    "'Shadow': {'kills': 0, 'assists': 2, 'deaths': False},\n",
    "'Blaze': {'kills': 2, 'assists': 0, 'deaths': True},\n",
    "'Viper': {'kills': 1, 'assists': 1, 'deaths': False},\n",
    "'Frost': {'kills': 2, 'assists': 1, 'deaths': True},\n",
    "'Reaper': {'kills': 0, 'assists': 1, 'deaths': False}\n",
    "},\n",
    "{\n",
    "'Shadow': {'kills': 1, 'assists': 0, 'deaths': False},\n",
    "'Blaze': {'kills': 2, 'assists': 2, 'deaths': True},\n",
    "'Viper': {'kills': 1, 'assists': 1, 'deaths': True},\n",
    "'Frost': {'kills': 0, 'assists': 1, 'deaths': False},\n",
    "'Reaper': {'kills': 1, 'assists': 1, 'deaths': False}\n",
    "},\n",
    "{\n",
    "'Shadow': {'kills': 2, 'assists': 1, 'deaths': False},\n",
    "'Blaze': {'kills': 1, 'assists': 0, 'deaths': True},\n",
    "'Viper': {'kills': 0, 'assists': 2, 'deaths': False},\n",
    "'Frost': {'kills': 1, 'assists': 1, 'deaths': True},\n",
    "'Reaper': {'kills': 1, 'assists': 1, 'deaths': False}\n",
    "},\n",
    "{\n",
    "'Shadow': {'kills': 1, 'assists': 2, 'deaths': True},\n",
    "'Blaze': {'kills': 0, 'assists': 1, 'deaths': False},\n",
    "'Viper': {'kills': 2, 'assists': 0, 'deaths': True},\n",
    "'Frost': {'kills': 1, 'assists': 1, 'deaths': False},\n",
    "'Reaper': {'kills': 1, 'assists': 1, 'deaths': True}\n",
    "}\n",
    "]"
   ]
  },
  {
   "cell_type": "markdown",
   "metadata": {},
   "source": [
    "Imprima las tablas de resultados luego de la inserción de cada una de las rondas pudiendo\n",
    "ver el progreso en el equipo.\n",
    "\n",
    "Además cada ronda debe tener un MVP (Mejor Jugador del Partido/ronda) basado en su\n",
    "puntuación. La cantidad de veces que el jugador ha sido MVP también se debe contabilizar\n",
    "\n",
    "Se debe imprimir el total de kills, asistencias, muertes, cantidad de MVP y puntos totales. La\n",
    "tabla tienen que estar en orden decreciente por los puntos totales."
   ]
  },
  {
   "cell_type": "code",
   "execution_count": 51,
   "metadata": {},
   "outputs": [
    {
     "name": "stdout",
     "output_type": "stream",
     "text": [
      "\n",
      "***************** NUEVA RONDA 1 ******************\n",
      " El jugador Shadow:\n",
      "kills     :   2\n",
      "assists   :   1\n",
      "deaths    :   1\n",
      "mvp       :   1\n",
      "points    :   6\n",
      " El jugador Blaze:\n",
      "kills     :   1\n",
      "assists   :   0\n",
      "deaths    :   0\n",
      "mvp       :   0\n",
      "points    :   3\n",
      " El jugador Viper:\n",
      "kills     :   1\n",
      "assists   :   2\n",
      "deaths    :   1\n",
      "mvp       :   0\n",
      "points    :   4\n",
      " El jugador Frost:\n",
      "kills     :   0\n",
      "assists   :   1\n",
      "deaths    :   0\n",
      "mvp       :   0\n",
      "points    :   1\n",
      " El jugador Reaper:\n",
      "kills     :   1\n",
      "assists   :   1\n",
      "deaths    :   0\n",
      "mvp       :   0\n",
      "points    :   4\n",
      "--------------------------------------------------\n",
      "\n",
      " MVP en la ronda 1 es Shadow con 6 puntos \n",
      "\n",
      "--------------------------------------------------\n",
      "*******************FIN DE RONDA*******************\n",
      "\n",
      "***************** NUEVA RONDA 2 ******************\n",
      " El jugador Shadow:\n",
      "kills     :   2\n",
      "assists   :   3\n",
      "deaths    :   1\n",
      "mvp       :   1\n",
      "points    :   8\n",
      " El jugador Blaze:\n",
      "kills     :   3\n",
      "assists   :   0\n",
      "deaths    :   1\n",
      "mvp       :   0\n",
      "points    :   8\n",
      " El jugador Viper:\n",
      "kills     :   2\n",
      "assists   :   3\n",
      "deaths    :   1\n",
      "mvp       :   0\n",
      "points    :   8\n",
      " El jugador Frost:\n",
      "kills     :   2\n",
      "assists   :   2\n",
      "deaths    :   1\n",
      "mvp       :   1\n",
      "points    :   7\n",
      " El jugador Reaper:\n",
      "kills     :   1\n",
      "assists   :   2\n",
      "deaths    :   0\n",
      "mvp       :   0\n",
      "points    :   5\n",
      "--------------------------------------------------\n",
      "\n",
      " MVP en la ronda 2 es Frost con 6 puntos \n",
      "\n",
      "--------------------------------------------------\n",
      "*******************FIN DE RONDA*******************\n",
      "\n",
      "***************** NUEVA RONDA 3 ******************\n",
      " El jugador Shadow:\n",
      "kills     :   3\n",
      "assists   :   3\n",
      "deaths    :   1\n",
      "mvp       :   1\n",
      "points    :  11\n",
      " El jugador Blaze:\n",
      "kills     :   5\n",
      "assists   :   2\n",
      "deaths    :   2\n",
      "mvp       :   1\n",
      "points    :  15\n",
      " El jugador Viper:\n",
      "kills     :   3\n",
      "assists   :   4\n",
      "deaths    :   2\n",
      "mvp       :   0\n",
      "points    :  11\n",
      " El jugador Frost:\n",
      "kills     :   2\n",
      "assists   :   3\n",
      "deaths    :   1\n",
      "mvp       :   1\n",
      "points    :   8\n",
      " El jugador Reaper:\n",
      "kills     :   2\n",
      "assists   :   3\n",
      "deaths    :   0\n",
      "mvp       :   0\n",
      "points    :   9\n",
      "--------------------------------------------------\n",
      "\n",
      " MVP en la ronda 3 es Blaze con 7 puntos \n",
      "\n",
      "--------------------------------------------------\n",
      "*******************FIN DE RONDA*******************\n",
      "\n",
      "***************** NUEVA RONDA 4 ******************\n",
      " El jugador Shadow:\n",
      "kills     :   5\n",
      "assists   :   4\n",
      "deaths    :   1\n",
      "mvp       :   2\n",
      "points    :  18\n",
      " El jugador Blaze:\n",
      "kills     :   6\n",
      "assists   :   2\n",
      "deaths    :   3\n",
      "mvp       :   1\n",
      "points    :  17\n",
      " El jugador Viper:\n",
      "kills     :   3\n",
      "assists   :   6\n",
      "deaths    :   2\n",
      "mvp       :   0\n",
      "points    :  13\n",
      " El jugador Frost:\n",
      "kills     :   3\n",
      "assists   :   4\n",
      "deaths    :   2\n",
      "mvp       :   1\n",
      "points    :  11\n",
      " El jugador Reaper:\n",
      "kills     :   3\n",
      "assists   :   4\n",
      "deaths    :   0\n",
      "mvp       :   0\n",
      "points    :  13\n",
      "--------------------------------------------------\n",
      "\n",
      " MVP en la ronda 4 es Shadow con 7 puntos \n",
      "\n",
      "--------------------------------------------------\n",
      "*******************FIN DE RONDA*******************\n",
      "\n",
      "***************** NUEVA RONDA 5 ******************\n",
      " El jugador Shadow:\n",
      "kills     :   6\n",
      "assists   :   6\n",
      "deaths    :   2\n",
      "mvp       :   2\n",
      "points    :  22\n",
      " El jugador Blaze:\n",
      "kills     :   6\n",
      "assists   :   3\n",
      "deaths    :   3\n",
      "mvp       :   1\n",
      "points    :  18\n",
      " El jugador Viper:\n",
      "kills     :   5\n",
      "assists   :   6\n",
      "deaths    :   3\n",
      "mvp       :   1\n",
      "points    :  18\n",
      " El jugador Frost:\n",
      "kills     :   4\n",
      "assists   :   5\n",
      "deaths    :   2\n",
      "mvp       :   1\n",
      "points    :  15\n",
      " El jugador Reaper:\n",
      "kills     :   4\n",
      "assists   :   5\n",
      "deaths    :   1\n",
      "mvp       :   0\n",
      "points    :  16\n",
      "--------------------------------------------------\n",
      "\n",
      " MVP en la ronda 5 es Viper con 5 puntos \n",
      "\n",
      "--------------------------------------------------\n",
      "*******************FIN DE RONDA*******************\n",
      "--------------------------------------------------\n",
      "\n",
      " El MVP de la partida es Shadow siendo 2 veces MVP\n",
      "\n",
      "--------------------------------------------------\n"
     ]
    }
   ],
   "source": [
    "\n",
    "from ejercicio_10.game_logic_10 import run_game  # Sin 'src.'\n",
    "if __name__ == \"__main__\":\n",
    "    run_game(rounds)"
   ]
  }
 ],
 "metadata": {
  "kernelspec": {
   "display_name": ".venv",
   "language": "python",
   "name": "python3"
  },
  "language_info": {
   "codemirror_mode": {
    "name": "ipython",
    "version": 3
   },
   "file_extension": ".py",
   "mimetype": "text/x-python",
   "name": "python",
   "nbconvert_exporter": "python",
   "pygments_lexer": "ipython3",
   "version": "3.12.9"
  }
 },
 "nbformat": 4,
 "nbformat_minor": 2
}
